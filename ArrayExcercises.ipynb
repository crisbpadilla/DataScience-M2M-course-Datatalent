{
  "nbformat": 4,
  "nbformat_minor": 0,
  "metadata": {
    "colab": {
      "provenance": [],
      "authorship_tag": "ABX9TyPjvYFW5j3wpFy+Vo9j8CN2",
      "include_colab_link": true
    },
    "kernelspec": {
      "name": "python3",
      "display_name": "Python 3"
    },
    "language_info": {
      "name": "python"
    }
  },
  "cells": [
    {
      "cell_type": "markdown",
      "metadata": {
        "id": "view-in-github",
        "colab_type": "text"
      },
      "source": [
        "<a href=\"https://colab.research.google.com/github/crisbpadilla/DataScience-M2M-course-Datatalent/blob/main/ArrayExcercises.ipynb\" target=\"_parent\"><img src=\"https://colab.research.google.com/assets/colab-badge.svg\" alt=\"Open In Colab\"/></a>"
      ]
    },
    {
      "cell_type": "markdown",
      "source": [
        "This notebook serve as a note for excersices done along the course."
      ],
      "metadata": {
        "id": "BRMHM-6BYgnA"
      }
    },
    {
      "cell_type": "markdown",
      "source": [
        "Creating arrays with diferent dimension:\n",
        "\n",
        "---\n",
        "\n",
        "a.-(3,2) array\n",
        "b.-(2,4)\n",
        "c.-(2,1)\n",
        "d.-(2,1,2)"
      ],
      "metadata": {
        "id": "WweFDAmGY0he"
      }
    },
    {
      "cell_type": "code",
      "execution_count": 2,
      "metadata": {
        "colab": {
          "base_uri": "https://localhost:8080/"
        },
        "id": "tnVLQo73YfXK",
        "outputId": "881f06f5-de34-4960-e619-904ec8908bb1"
      },
      "outputs": [
        {
          "output_type": "stream",
          "name": "stdout",
          "text": [
            "[[1 2]\n",
            " [3 4]\n",
            " [5 6]]\n"
          ]
        }
      ],
      "source": [
        "import numpy as np\n",
        "\n",
        "a=np.array([[1,2],[3,4],[5,6]])\n",
        "print(a)"
      ]
    },
    {
      "cell_type": "code",
      "source": [
        "b=np.array([[1,2,3,4],[5,6,7,8]])\n",
        "print(b)"
      ],
      "metadata": {
        "colab": {
          "base_uri": "https://localhost:8080/"
        },
        "id": "Dhngqh9taSfh",
        "outputId": "f69c1e93-a644-40ec-db21-cbcccd5b192f"
      },
      "execution_count": 4,
      "outputs": [
        {
          "output_type": "stream",
          "name": "stdout",
          "text": [
            "[[1 2 3 4]\n",
            " [5 6 7 8]]\n"
          ]
        }
      ]
    },
    {
      "cell_type": "code",
      "source": [
        "c=np.array([[1],[2]])\n",
        "print(c.shape)\n",
        "print(c)"
      ],
      "metadata": {
        "colab": {
          "base_uri": "https://localhost:8080/"
        },
        "id": "4lHFuTLZa0f2",
        "outputId": "0e338154-6b39-4525-9e56-52c9f56beb23"
      },
      "execution_count": 6,
      "outputs": [
        {
          "output_type": "stream",
          "name": "stdout",
          "text": [
            "(2, 1)\n",
            "[[1]\n",
            " [2]]\n"
          ]
        }
      ]
    },
    {
      "cell_type": "code",
      "source": [
        "d=np.array([[[2,1]],[[2,1]]])\n",
        "print(f'This array has dimension {d.ndim} , shape {d.shape} and the array is represented with the next vector {d}')"
      ],
      "metadata": {
        "colab": {
          "base_uri": "https://localhost:8080/"
        },
        "id": "BF8cqSFEbdhd",
        "outputId": "655167f0-38b6-4b55-df69-36c095d2ddec"
      },
      "execution_count": 7,
      "outputs": [
        {
          "output_type": "stream",
          "name": "stdout",
          "text": [
            "This array has dimension3 , shape (2, 1, 2) and the array is represented with the next vector [[[2 1]]\n",
            "\n",
            " [[2 1]]]\n"
          ]
        }
      ]
    },
    {
      "cell_type": "code",
      "source": [
        "import numpy as np\n",
        "\n",
        "a=np.array([[1,2],[3,4],[5,6]])\n",
        "b=np.array([[1,2,3,4],[5,6,7,8]])\n",
        "c=np.array([[1],[2]])\n",
        "d=np.array([[[2,1]],[[2,1]]])\n",
        "\n",
        "ex=np.array([a,b,c,d],dtype=object)\n",
        "\n",
        "for arrays in ex:\n",
        " print(f'This array has dimension {arrays.ndim} , shape {arrays.shape} and the array is represented with the next vector {arrays}')"
      ],
      "metadata": {
        "colab": {
          "base_uri": "https://localhost:8080/"
        },
        "id": "kF7fCoiYcehv",
        "outputId": "96f11dc9-b33e-479d-b997-bb039c67b708"
      },
      "execution_count": 14,
      "outputs": [
        {
          "output_type": "stream",
          "name": "stdout",
          "text": [
            "This array has dimension 2 , shape (3, 2) and the array is represented with the next vector [[1 2]\n",
            " [3 4]\n",
            " [5 6]]\n",
            "This array has dimension 2 , shape (2, 4) and the array is represented with the next vector [[1 2 3 4]\n",
            " [5 6 7 8]]\n",
            "This array has dimension 2 , shape (2, 1) and the array is represented with the next vector [[1]\n",
            " [2]]\n",
            "This array has dimension 3 , shape (2, 1, 2) and the array is represented with the next vector [[[2 1]]\n",
            "\n",
            " [[2 1]]]\n"
          ]
        }
      ]
    },
    {
      "cell_type": "markdown",
      "source": [
        "For the iteration made before we also can use the python function 'list()' instead of using the array function of the numpy library."
      ],
      "metadata": {
        "id": "v4q0Lj49eiBY"
      }
    },
    {
      "cell_type": "code",
      "source": [
        "import numpy as np\n",
        "\n",
        "a=np.array([[1,2],[3,4],[5,6]])\n",
        "b=np.array([[1,2,3,4],[5,6,7,8]])\n",
        "c=np.array([[1],[2]])\n",
        "d=np.array([[[2,1]],[[2,1]]])\n",
        "\n",
        "ex=list([a,b,c,d])\n",
        "\n",
        "for arrays in ex:\n",
        " print(f'This array has dimension {arrays.ndim} , shape {arrays.shape} and the array is represented with the next vector {arrays}')"
      ],
      "metadata": {
        "colab": {
          "base_uri": "https://localhost:8080/"
        },
        "id": "udah1YSweh4p",
        "outputId": "364111b0-7d51-4331-9f1f-16dbaebf1208"
      },
      "execution_count": 15,
      "outputs": [
        {
          "output_type": "stream",
          "name": "stdout",
          "text": [
            "This array has dimension 2 , shape (3, 2) and the array is represented with the next vector [[1 2]\n",
            " [3 4]\n",
            " [5 6]]\n",
            "This array has dimension 2 , shape (2, 4) and the array is represented with the next vector [[1 2 3 4]\n",
            " [5 6 7 8]]\n",
            "This array has dimension 2 , shape (2, 1) and the array is represented with the next vector [[1]\n",
            " [2]]\n",
            "This array has dimension 3 , shape (2, 1, 2) and the array is represented with the next vector [[[2 1]]\n",
            "\n",
            " [[2 1]]]\n"
          ]
        }
      ]
    },
    {
      "cell_type": "markdown",
      "source": [
        "Challenge 2, Create a new array of ones of shape (5,5) and index into it in such a way that the result is an arrange of shape (2,3)\n"
      ],
      "metadata": {
        "id": "h3-KgQkBvGCp"
      }
    },
    {
      "cell_type": "code",
      "source": [
        "a1= np.ones((5,5), dtype=int)# create my array of ones of dimension 5,5\n",
        "print(a1[0:2,2:5])\n",
        "print(a1[1:3,0:3])"
      ],
      "metadata": {
        "colab": {
          "base_uri": "https://localhost:8080/"
        },
        "id": "Vt9RlUKqwQH0",
        "outputId": "285f6942-73ea-4652-b7f1-355007b67006"
      },
      "execution_count": 23,
      "outputs": [
        {
          "output_type": "stream",
          "name": "stdout",
          "text": [
            "[[1 1 1]\n",
            " [1 1 1]]\n",
            "[[1 1 1]\n",
            " [1 1 1]]\n"
          ]
        }
      ]
    },
    {
      "cell_type": "markdown",
      "source": [
        "Challenge 3, create an empty array of shape (3,3,3) and iterate in the elements in two different ways\n"
      ],
      "metadata": {
        "id": "jN9jWBS1PNzW"
      }
    },
    {
      "cell_type": "code",
      "source": [
        "import numpy as np\n",
        "# first we proceed with the creation of the array\n",
        "ea=np.empty((3,3,3), dtype=int)\n",
        "print(ea)\n",
        "#now I can iterate the elements of this array in two ways, using the numpy function flat, or iterating within the elements of any axis\n",
        "\n",
        "#iterating within the dimensions\n",
        "for row in ea:\n",
        "  for col in row:\n",
        "    for el in col:\n",
        "      print(el)\n",
        "\n",
        "#using the flat function\n",
        "\n",
        "for el in ea.flat:\n",
        "  print(el)"
      ],
      "metadata": {
        "colab": {
          "base_uri": "https://localhost:8080/"
        },
        "id": "SnchEVwfPMtk",
        "outputId": "56de3080-961e-46fd-fd32-79e93dc17276"
      },
      "execution_count": 7,
      "outputs": [
        {
          "output_type": "stream",
          "name": "stdout",
          "text": [
            "[[[ 94148874073277               0 135456223267952]\n",
            "  [135456441246864 135456442743152 135456442743152]\n",
            "  [135456225009728 135456440399472 135456441246864]]\n",
            "\n",
            " [[135456440399472 135456440399472 135456225004496]\n",
            "  [135456436323440 135456441475280 135456436323440]\n",
            "  [135456436323440 135456442122288 135456442743472]]\n",
            "\n",
            " [[135456442743472 135456442743472 135456442743472]\n",
            "  [135456442743152 135456442743472 135456442122288]\n",
            "  [135456442122288 135456441122544             416]]]\n",
            "94148874073277\n",
            "0\n",
            "135456223267952\n",
            "135456441246864\n",
            "135456442743152\n",
            "135456442743152\n",
            "135456225009728\n",
            "135456440399472\n",
            "135456441246864\n",
            "135456440399472\n",
            "135456440399472\n",
            "135456225004496\n",
            "135456436323440\n",
            "135456441475280\n",
            "135456436323440\n",
            "135456436323440\n",
            "135456442122288\n",
            "135456442743472\n",
            "135456442743472\n",
            "135456442743472\n",
            "135456442743472\n",
            "135456442743152\n",
            "135456442743472\n",
            "135456442122288\n",
            "135456442122288\n",
            "135456441122544\n",
            "416\n",
            "94148874073277\n",
            "0\n",
            "135456223267952\n",
            "135456441246864\n",
            "135456442743152\n",
            "135456442743152\n",
            "135456225009728\n",
            "135456440399472\n",
            "135456441246864\n",
            "135456440399472\n",
            "135456440399472\n",
            "135456225004496\n",
            "135456436323440\n",
            "135456441475280\n",
            "135456436323440\n",
            "135456436323440\n",
            "135456442122288\n",
            "135456442743472\n",
            "135456442743472\n",
            "135456442743472\n",
            "135456442743472\n",
            "135456442743152\n",
            "135456442743472\n",
            "135456442122288\n",
            "135456442122288\n",
            "135456441122544\n",
            "416\n"
          ]
        }
      ]
    },
    {
      "cell_type": "markdown",
      "source": [
        "Reshaping an array with reshape((shape wanted as tuple)) function\n",
        "\n",
        "First challenge on reshaping. create an array with numbers from 0 to 50 with 10 rows and 5 columns"
      ],
      "metadata": {
        "id": "H22h1_fEejQ0"
      }
    },
    {
      "cell_type": "code",
      "source": [
        "import numpy as np\n",
        "\n",
        "a2=np.arange(0,50)\n",
        "ra2=a2.reshape((10,5))\n",
        "print(a2)\n",
        "print(ra2)"
      ],
      "metadata": {
        "colab": {
          "base_uri": "https://localhost:8080/"
        },
        "id": "zIxX6V1dfHjl",
        "outputId": "77847a71-f108-4179-c644-cace724d5b70"
      },
      "execution_count": 10,
      "outputs": [
        {
          "output_type": "stream",
          "name": "stdout",
          "text": [
            "[ 0  1  2  3  4  5  6  7  8  9 10 11 12 13 14 15 16 17 18 19 20 21 22 23\n",
            " 24 25 26 27 28 29 30 31 32 33 34 35 36 37 38 39 40 41 42 43 44 45 46 47\n",
            " 48 49]\n",
            "[[ 0  1  2  3  4]\n",
            " [ 5  6  7  8  9]\n",
            " [10 11 12 13 14]\n",
            " [15 16 17 18 19]\n",
            " [20 21 22 23 24]\n",
            " [25 26 27 28 29]\n",
            " [30 31 32 33 34]\n",
            " [35 36 37 38 39]\n",
            " [40 41 42 43 44]\n",
            " [45 46 47 48 49]]\n"
          ]
        }
      ]
    },
    {
      "cell_type": "markdown",
      "source": [
        "Create an array of shape (5,6,7) updated to be flatted and then back to its previous shape. Finally explain the shape of the array."
      ],
      "metadata": {
        "id": "iOX6t7sPZbjv"
      }
    },
    {
      "cell_type": "code",
      "source": [
        "import numpy as np\n",
        "\n",
        "a3=np.arange(5*6*7)\n",
        "ash=a3.reshape(5,6,7)\n",
        "# Or i could create directly an array using the method zero, ones or empty with\n",
        "# the determined shape\n",
        "a4=np.ones((5,6,7))\n",
        "\n",
        "print (a4)\n",
        "print(a4.ravel())\n",
        "print(ash)\n",
        "print(ash.ravel())\n",
        "# the shape of the current array  has  5 set of arrays or list of data, in which\n",
        "# within any one of them you have an set of data displayed as an array of shape\n",
        "# (6,7), so it has 6 rows and 7 columns. being like [a,b,c,d,e] where a=b=c=d=e=\n",
        "# np.ones((6,7))"
      ],
      "metadata": {
        "colab": {
          "base_uri": "https://localhost:8080/"
        },
        "id": "1gzcArlaZrXC",
        "outputId": "733d6af8-f589-4fea-babb-38656f1215b5"
      },
      "execution_count": 9,
      "outputs": [
        {
          "output_type": "stream",
          "name": "stdout",
          "text": [
            "[[[1. 1. 1. 1. 1. 1. 1.]\n",
            "  [1. 1. 1. 1. 1. 1. 1.]\n",
            "  [1. 1. 1. 1. 1. 1. 1.]\n",
            "  [1. 1. 1. 1. 1. 1. 1.]\n",
            "  [1. 1. 1. 1. 1. 1. 1.]\n",
            "  [1. 1. 1. 1. 1. 1. 1.]]\n",
            "\n",
            " [[1. 1. 1. 1. 1. 1. 1.]\n",
            "  [1. 1. 1. 1. 1. 1. 1.]\n",
            "  [1. 1. 1. 1. 1. 1. 1.]\n",
            "  [1. 1. 1. 1. 1. 1. 1.]\n",
            "  [1. 1. 1. 1. 1. 1. 1.]\n",
            "  [1. 1. 1. 1. 1. 1. 1.]]\n",
            "\n",
            " [[1. 1. 1. 1. 1. 1. 1.]\n",
            "  [1. 1. 1. 1. 1. 1. 1.]\n",
            "  [1. 1. 1. 1. 1. 1. 1.]\n",
            "  [1. 1. 1. 1. 1. 1. 1.]\n",
            "  [1. 1. 1. 1. 1. 1. 1.]\n",
            "  [1. 1. 1. 1. 1. 1. 1.]]\n",
            "\n",
            " [[1. 1. 1. 1. 1. 1. 1.]\n",
            "  [1. 1. 1. 1. 1. 1. 1.]\n",
            "  [1. 1. 1. 1. 1. 1. 1.]\n",
            "  [1. 1. 1. 1. 1. 1. 1.]\n",
            "  [1. 1. 1. 1. 1. 1. 1.]\n",
            "  [1. 1. 1. 1. 1. 1. 1.]]\n",
            "\n",
            " [[1. 1. 1. 1. 1. 1. 1.]\n",
            "  [1. 1. 1. 1. 1. 1. 1.]\n",
            "  [1. 1. 1. 1. 1. 1. 1.]\n",
            "  [1. 1. 1. 1. 1. 1. 1.]\n",
            "  [1. 1. 1. 1. 1. 1. 1.]\n",
            "  [1. 1. 1. 1. 1. 1. 1.]]]\n",
            "[1. 1. 1. 1. 1. 1. 1. 1. 1. 1. 1. 1. 1. 1. 1. 1. 1. 1. 1. 1. 1. 1. 1. 1.\n",
            " 1. 1. 1. 1. 1. 1. 1. 1. 1. 1. 1. 1. 1. 1. 1. 1. 1. 1. 1. 1. 1. 1. 1. 1.\n",
            " 1. 1. 1. 1. 1. 1. 1. 1. 1. 1. 1. 1. 1. 1. 1. 1. 1. 1. 1. 1. 1. 1. 1. 1.\n",
            " 1. 1. 1. 1. 1. 1. 1. 1. 1. 1. 1. 1. 1. 1. 1. 1. 1. 1. 1. 1. 1. 1. 1. 1.\n",
            " 1. 1. 1. 1. 1. 1. 1. 1. 1. 1. 1. 1. 1. 1. 1. 1. 1. 1. 1. 1. 1. 1. 1. 1.\n",
            " 1. 1. 1. 1. 1. 1. 1. 1. 1. 1. 1. 1. 1. 1. 1. 1. 1. 1. 1. 1. 1. 1. 1. 1.\n",
            " 1. 1. 1. 1. 1. 1. 1. 1. 1. 1. 1. 1. 1. 1. 1. 1. 1. 1. 1. 1. 1. 1. 1. 1.\n",
            " 1. 1. 1. 1. 1. 1. 1. 1. 1. 1. 1. 1. 1. 1. 1. 1. 1. 1. 1. 1. 1. 1. 1. 1.\n",
            " 1. 1. 1. 1. 1. 1. 1. 1. 1. 1. 1. 1. 1. 1. 1. 1. 1. 1.]\n",
            "[[[  0   1   2   3   4   5   6]\n",
            "  [  7   8   9  10  11  12  13]\n",
            "  [ 14  15  16  17  18  19  20]\n",
            "  [ 21  22  23  24  25  26  27]\n",
            "  [ 28  29  30  31  32  33  34]\n",
            "  [ 35  36  37  38  39  40  41]]\n",
            "\n",
            " [[ 42  43  44  45  46  47  48]\n",
            "  [ 49  50  51  52  53  54  55]\n",
            "  [ 56  57  58  59  60  61  62]\n",
            "  [ 63  64  65  66  67  68  69]\n",
            "  [ 70  71  72  73  74  75  76]\n",
            "  [ 77  78  79  80  81  82  83]]\n",
            "\n",
            " [[ 84  85  86  87  88  89  90]\n",
            "  [ 91  92  93  94  95  96  97]\n",
            "  [ 98  99 100 101 102 103 104]\n",
            "  [105 106 107 108 109 110 111]\n",
            "  [112 113 114 115 116 117 118]\n",
            "  [119 120 121 122 123 124 125]]\n",
            "\n",
            " [[126 127 128 129 130 131 132]\n",
            "  [133 134 135 136 137 138 139]\n",
            "  [140 141 142 143 144 145 146]\n",
            "  [147 148 149 150 151 152 153]\n",
            "  [154 155 156 157 158 159 160]\n",
            "  [161 162 163 164 165 166 167]]\n",
            "\n",
            " [[168 169 170 171 172 173 174]\n",
            "  [175 176 177 178 179 180 181]\n",
            "  [182 183 184 185 186 187 188]\n",
            "  [189 190 191 192 193 194 195]\n",
            "  [196 197 198 199 200 201 202]\n",
            "  [203 204 205 206 207 208 209]]]\n",
            "[  0   1   2   3   4   5   6   7   8   9  10  11  12  13  14  15  16  17\n",
            "  18  19  20  21  22  23  24  25  26  27  28  29  30  31  32  33  34  35\n",
            "  36  37  38  39  40  41  42  43  44  45  46  47  48  49  50  51  52  53\n",
            "  54  55  56  57  58  59  60  61  62  63  64  65  66  67  68  69  70  71\n",
            "  72  73  74  75  76  77  78  79  80  81  82  83  84  85  86  87  88  89\n",
            "  90  91  92  93  94  95  96  97  98  99 100 101 102 103 104 105 106 107\n",
            " 108 109 110 111 112 113 114 115 116 117 118 119 120 121 122 123 124 125\n",
            " 126 127 128 129 130 131 132 133 134 135 136 137 138 139 140 141 142 143\n",
            " 144 145 146 147 148 149 150 151 152 153 154 155 156 157 158 159 160 161\n",
            " 162 163 164 165 166 167 168 169 170 171 172 173 174 175 176 177 178 179\n",
            " 180 181 182 183 184 185 186 187 188 189 190 191 192 193 194 195 196 197\n",
            " 198 199 200 201 202 203 204 205 206 207 208 209]\n"
          ]
        }
      ]
    },
    {
      "cell_type": "markdown",
      "source": [
        "Challenge:\n",
        "1.- Create an array with values ranging from 1 to 30 in two different ways\n",
        "2.-reshape te arrays to have shape (3,10)\n",
        "3.-Split the array in 3 different parts in any way you want.\n",
        "4.-join the arrays part back togheter to get back the array of shape (3,10)"
      ],
      "metadata": {
        "id": "--9zswdN1bTg"
      }
    },
    {
      "cell_type": "code",
      "source": [
        "import numpy as np\n",
        "#create the array\n",
        "#first way using arange\n",
        "arr=np.arange(1,31)\n",
        "# sercond way using the method r_\n",
        "arr2=np.r_[1:31]\n",
        "#or a third way using the method C_ and hstack\n",
        "arr3=np.hstack((np.c_[1:31]))\n",
        "\n",
        "#reshaping the arrays arr1 and arr2\n",
        "\n",
        "arrA= arr.reshape((3,10))\n",
        "arrB= arr2.reshape((3,10))\n",
        "\n",
        "#Splittiing the array in 3 different parts\n",
        "\n",
        "Sarr=np.vsplit(arrA,3)\n",
        "\n",
        "#get back the array shape (3,10)\n",
        "\n",
        "Rarr=np.ravel(Sarr).reshape((3,10))\n",
        "\n",
        "print(arr)\n",
        "print(arrA)\n",
        "print(Sarr)\n",
        "print(f'The array Sarr is reshape to {Rarr}')"
      ],
      "metadata": {
        "colab": {
          "base_uri": "https://localhost:8080/"
        },
        "id": "umjoU70p2Y4x",
        "outputId": "abff0c88-c4d0-453b-b243-222cec1cd255"
      },
      "execution_count": 21,
      "outputs": [
        {
          "output_type": "stream",
          "name": "stdout",
          "text": [
            "[ 1  2  3  4  5  6  7  8  9 10 11 12 13 14 15 16 17 18 19 20 21 22 23 24\n",
            " 25 26 27 28 29 30]\n",
            "[[ 1  2  3  4  5  6  7  8  9 10]\n",
            " [11 12 13 14 15 16 17 18 19 20]\n",
            " [21 22 23 24 25 26 27 28 29 30]]\n",
            "[array([[ 1,  2,  3,  4,  5,  6,  7,  8,  9, 10]]), array([[11, 12, 13, 14, 15, 16, 17, 18, 19, 20]]), array([[21, 22, 23, 24, 25, 26, 27, 28, 29, 30]])]\n",
            "The array Sarr is reshape to [[ 1  2  3  4  5  6  7  8  9 10]\n",
            " [11 12 13 14 15 16 17 18 19 20]\n",
            " [21 22 23 24 25 26 27 28 29 30]]\n"
          ]
        }
      ]
    }
  ]
}