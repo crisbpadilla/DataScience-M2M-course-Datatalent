{
  "nbformat": 4,
  "nbformat_minor": 0,
  "metadata": {
    "colab": {
      "provenance": [],
      "authorship_tag": "ABX9TyMt63be3WYb57tZKmuYk+9b",
      "include_colab_link": true
    },
    "kernelspec": {
      "name": "python3",
      "display_name": "Python 3"
    },
    "language_info": {
      "name": "python"
    }
  },
  "cells": [
    {
      "cell_type": "markdown",
      "metadata": {
        "id": "view-in-github",
        "colab_type": "text"
      },
      "source": [
        "<a href=\"https://colab.research.google.com/github/crisbpadilla/DataScience-M2M-course-Datatalent/blob/main/ChallengesNumpy.ipynb\" target=\"_parent\"><img src=\"https://colab.research.google.com/assets/colab-badge.svg\" alt=\"Open In Colab\"/></a>"
      ]
    },
    {
      "cell_type": "markdown",
      "source": [
        "This notebook serve as a note for excersices done along the course."
      ],
      "metadata": {
        "id": "BRMHM-6BYgnA"
      }
    },
    {
      "cell_type": "markdown",
      "source": [
        "Creating arrays with diferent dimension:\n",
        "\n",
        "---\n",
        "\n",
        "a.-(3,2) array\n",
        "b.-(2,4)\n",
        "c.-(2,1)\n",
        "d.-(2,1,2)"
      ],
      "metadata": {
        "id": "WweFDAmGY0he"
      }
    },
    {
      "cell_type": "code",
      "execution_count": 2,
      "metadata": {
        "colab": {
          "base_uri": "https://localhost:8080/"
        },
        "id": "tnVLQo73YfXK",
        "outputId": "881f06f5-de34-4960-e619-904ec8908bb1"
      },
      "outputs": [
        {
          "output_type": "stream",
          "name": "stdout",
          "text": [
            "[[1 2]\n",
            " [3 4]\n",
            " [5 6]]\n"
          ]
        }
      ],
      "source": [
        "import numpy as np\n",
        "\n",
        "a=np.array([[1,2],[3,4],[5,6]])\n",
        "print(a)"
      ]
    },
    {
      "cell_type": "code",
      "source": [
        "b=np.array([[1,2,3,4],[5,6,7,8]])\n",
        "print(b)"
      ],
      "metadata": {
        "colab": {
          "base_uri": "https://localhost:8080/"
        },
        "id": "Dhngqh9taSfh",
        "outputId": "f69c1e93-a644-40ec-db21-cbcccd5b192f"
      },
      "execution_count": 4,
      "outputs": [
        {
          "output_type": "stream",
          "name": "stdout",
          "text": [
            "[[1 2 3 4]\n",
            " [5 6 7 8]]\n"
          ]
        }
      ]
    },
    {
      "cell_type": "code",
      "source": [
        "c=np.array([[1],[2]])\n",
        "print(c.shape)\n",
        "print(c)"
      ],
      "metadata": {
        "colab": {
          "base_uri": "https://localhost:8080/"
        },
        "id": "4lHFuTLZa0f2",
        "outputId": "0e338154-6b39-4525-9e56-52c9f56beb23"
      },
      "execution_count": 6,
      "outputs": [
        {
          "output_type": "stream",
          "name": "stdout",
          "text": [
            "(2, 1)\n",
            "[[1]\n",
            " [2]]\n"
          ]
        }
      ]
    },
    {
      "cell_type": "code",
      "source": [
        "d=np.array([[[2,1]],[[2,1]]])\n",
        "print(f'This array has dimension {d.ndim} , shape {d.shape} and the array is represented with the next vector {d}')"
      ],
      "metadata": {
        "colab": {
          "base_uri": "https://localhost:8080/"
        },
        "id": "BF8cqSFEbdhd",
        "outputId": "655167f0-38b6-4b55-df69-36c095d2ddec"
      },
      "execution_count": 7,
      "outputs": [
        {
          "output_type": "stream",
          "name": "stdout",
          "text": [
            "This array has dimension3 , shape (2, 1, 2) and the array is represented with the next vector [[[2 1]]\n",
            "\n",
            " [[2 1]]]\n"
          ]
        }
      ]
    },
    {
      "cell_type": "code",
      "source": [
        "import numpy as np\n",
        "\n",
        "a=np.array([[1,2],[3,4],[5,6]])\n",
        "b=np.array([[1,2,3,4],[5,6,7,8]])\n",
        "c=np.array([[1],[2]])\n",
        "d=np.array([[[2,1]],[[2,1]]])\n",
        "\n",
        "ex=np.array([a,b,c,d],dtype=object)\n",
        "\n",
        "for arrays in ex:\n",
        " print(f'This array has dimension {arrays.ndim} , shape {arrays.shape} and the array is represented with the next vector {arrays}')"
      ],
      "metadata": {
        "colab": {
          "base_uri": "https://localhost:8080/"
        },
        "id": "kF7fCoiYcehv",
        "outputId": "96f11dc9-b33e-479d-b997-bb039c67b708"
      },
      "execution_count": 14,
      "outputs": [
        {
          "output_type": "stream",
          "name": "stdout",
          "text": [
            "This array has dimension 2 , shape (3, 2) and the array is represented with the next vector [[1 2]\n",
            " [3 4]\n",
            " [5 6]]\n",
            "This array has dimension 2 , shape (2, 4) and the array is represented with the next vector [[1 2 3 4]\n",
            " [5 6 7 8]]\n",
            "This array has dimension 2 , shape (2, 1) and the array is represented with the next vector [[1]\n",
            " [2]]\n",
            "This array has dimension 3 , shape (2, 1, 2) and the array is represented with the next vector [[[2 1]]\n",
            "\n",
            " [[2 1]]]\n"
          ]
        }
      ]
    },
    {
      "cell_type": "markdown",
      "source": [
        "For the iteration made before we also can use the python function 'list()' instead of using the array function of the numpy library."
      ],
      "metadata": {
        "id": "v4q0Lj49eiBY"
      }
    },
    {
      "cell_type": "code",
      "source": [
        "import numpy as np\n",
        "\n",
        "a=np.array([[1,2],[3,4],[5,6]])\n",
        "b=np.array([[1,2,3,4],[5,6,7,8]])\n",
        "c=np.array([[1],[2]])\n",
        "d=np.array([[[2,1]],[[2,1]]])\n",
        "\n",
        "ex=list([a,b,c,d])\n",
        "\n",
        "for arrays in ex:\n",
        " print(f'This array has dimension {arrays.ndim} , shape {arrays.shape} and the array is represented with the next vector {arrays}')"
      ],
      "metadata": {
        "colab": {
          "base_uri": "https://localhost:8080/"
        },
        "id": "udah1YSweh4p",
        "outputId": "364111b0-7d51-4331-9f1f-16dbaebf1208"
      },
      "execution_count": 15,
      "outputs": [
        {
          "output_type": "stream",
          "name": "stdout",
          "text": [
            "This array has dimension 2 , shape (3, 2) and the array is represented with the next vector [[1 2]\n",
            " [3 4]\n",
            " [5 6]]\n",
            "This array has dimension 2 , shape (2, 4) and the array is represented with the next vector [[1 2 3 4]\n",
            " [5 6 7 8]]\n",
            "This array has dimension 2 , shape (2, 1) and the array is represented with the next vector [[1]\n",
            " [2]]\n",
            "This array has dimension 3 , shape (2, 1, 2) and the array is represented with the next vector [[[2 1]]\n",
            "\n",
            " [[2 1]]]\n"
          ]
        }
      ]
    }
  ]
}